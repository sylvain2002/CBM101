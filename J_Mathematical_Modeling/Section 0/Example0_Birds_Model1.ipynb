{
 "cells": [
  {
   "cell_type": "code",
   "execution_count": 10,
   "metadata": {},
   "outputs": [],
   "source": [
    "Birds_year0 = 100 \n",
    "# we set the initial number of birds to 100"
   ]
  },
  {
   "cell_type": "code",
   "execution_count": 11,
   "metadata": {},
   "outputs": [],
   "source": [
    "Birth_rate = 0.5\n",
    "# we set the birth rate to 0.5, i.e. each couple of birds gives birth to one chick hence each bird to \"half a chick\""
   ]
  },
  {
   "cell_type": "code",
   "execution_count": 12,
   "metadata": {},
   "outputs": [],
   "source": [
    "Birds_year1 = Birds_year0 + Birds_year0 * Birth_rate\n",
    "# we compute the total number of birds after a year: initial number + number of chicks"
   ]
  },
  {
   "cell_type": "code",
   "execution_count": 13,
   "metadata": {},
   "outputs": [
    {
     "name": "stdout",
     "output_type": "stream",
     "text": [
      "150.0\n"
     ]
    }
   ],
   "source": [
    "print(Birds_year1)\n",
    "# we print the result on screen"
   ]
  },
  {
   "cell_type": "code",
   "execution_count": 14,
   "metadata": {},
   "outputs": [
    {
     "name": "stdout",
     "output_type": "stream",
     "text": [
      "225.0\n"
     ]
    }
   ],
   "source": [
    "Birds_year2 = Birds_year1 + Birds_year1 * Birth_rate; print(Birds_year2)\n",
    "# we compute the total number of birds after 2 years: number after one year + number of chicks born from all birds at year 1; print result"
   ]
  },
  {
   "cell_type": "code",
   "execution_count": 15,
   "metadata": {},
   "outputs": [
    {
     "name": "stdout",
     "output_type": "stream",
     "text": [
      "150.0\n",
      "225.0\n",
      "337.5\n",
      "506.25\n",
      "759.375\n",
      "1139.0625\n",
      "1708.59375\n",
      "2562.890625\n",
      "3844.3359375\n",
      "5766.50390625\n",
      "8649.755859375\n",
      "12974.6337890625\n",
      "19461.95068359375\n",
      "29192.926025390625\n",
      "43789.38903808594\n",
      "65684.0835571289\n",
      "98526.12533569336\n",
      "147789.18800354004\n",
      "221683.78200531006\n",
      "332525.6730079651\n",
      "498788.50951194763\n",
      "748182.7642679214\n",
      "1122274.1464018822\n",
      "1683411.2196028233\n",
      "2525116.829404235\n",
      "3787675.2441063523\n",
      "5681512.8661595285\n",
      "8522269.299239293\n",
      "12783403.94885894\n",
      "19175105.92328841\n",
      "28762658.884932615\n",
      "43143988.327398926\n",
      "64715982.49109839\n",
      "97073973.73664758\n",
      "145610960.60497135\n",
      "218416440.90745702\n",
      "327624661.36118555\n",
      "491436992.0417783\n",
      "737155488.0626675\n",
      "1105733232.0940013\n",
      "1658599848.141002\n",
      "2487899772.211503\n",
      "3731849658.3172545\n",
      "5597774487.475882\n",
      "8396661731.213822\n",
      "12594992596.820734\n",
      "18892488895.231102\n",
      "28338733342.846653\n",
      "42508100014.26998\n",
      "63762150021.40497\n"
     ]
    }
   ],
   "source": [
    "# To compute the number of birds after 50 years, we need to repeat the above 50 times. \n",
    "# To to do, we use a \"for\" loop: at each year, represented by a running index \"year\" that is incremented by 1 unit at each iteration within the specified range, \n",
    "# we compute the number of chicks by multiplying the current number of birds \"Birds\" by the birth rate. Then we add the number\n",
    "# of chicks to \"Birds\" to get the total number of birds for the next year. At each year, we print the resulting total number of birds\n",
    "# We note that the last iteration (# 51 here) is not performed. \n",
    "Birds=100\n",
    "for year in range (1,51) :\n",
    "    Birds = Birds + Birds * Birth_rate\n",
    "    print(Birds)"
   ]
  },
  {
   "cell_type": "code",
   "execution_count": 16,
   "metadata": {},
   "outputs": [
    {
     "name": "stdout",
     "output_type": "stream",
     "text": [
      "What do you think?\n"
     ]
    }
   ],
   "source": [
    "print(\"What do you think?\")"
   ]
  },
  {
   "cell_type": "code",
   "execution_count": 17,
   "metadata": {},
   "outputs": [
    {
     "name": "stdout",
     "output_type": "stream",
     "text": [
      "[100, 150.0, 225.0, 337.5, 506.25, 759.375, 1139.0625, 1708.59375, 2562.890625, 3844.3359375, 5766.50390625, 8649.755859375, 12974.6337890625, 19461.95068359375, 29192.926025390625, 43789.38903808594, 65684.0835571289, 98526.12533569336, 147789.18800354004, 221683.78200531006, 332525.6730079651, 498788.50951194763, 748182.7642679214, 1122274.1464018822, 1683411.2196028233, 2525116.829404235, 3787675.2441063523, 5681512.8661595285, 8522269.299239293, 12783403.94885894, 19175105.92328841, 28762658.884932615, 43143988.327398926, 64715982.49109839, 97073973.73664758, 145610960.60497135, 218416440.90745702, 327624661.36118555, 491436992.0417783, 737155488.0626675, 1105733232.0940013, 1658599848.141002, 2487899772.211503, 3731849658.3172545, 5597774487.475882, 8396661731.213822, 12594992596.820734, 18892488895.231102, 28338733342.846653, 42508100014.26998, 63762150021.40497]\n",
      "[0, 1, 2, 3, 4, 5, 6, 7, 8, 9, 10, 11, 12, 13, 14, 15, 16, 17, 18, 19, 20, 21, 22, 23, 24, 25, 26, 27, 28, 29, 30, 31, 32, 33, 34, 35, 36, 37, 38, 39, 40, 41, 42, 43, 44, 45, 46, 47, 48, 49, 50]\n"
     ]
    }
   ],
   "source": [
    "# If we want to plot the # of birds over time, we need to store the intermediate values in memory. Let's repeat and keep all data generated in the \"for\" loop\n",
    "Time=[0]\n",
    "Birds=[100]\n",
    "for year in range (1,51) :\n",
    "    Birds = Birds + [Birds[-1] + Birds[-1] * Birth_rate]\n",
    "    Time = Time + [year]\n",
    "print(Birds)\n",
    "print(Time)\n",
    "# a bit of explanation: because we want to keep all time and # birds data, we are building lists over the years (\"Time\" and \"Birds\" respectively).\n",
    "# Each year, both lists need to incorporate a new value, while keeping the \"old\" ones unchanged: we need to add the new value at the end of the lists of values.\n",
    "# A convenient way to do this is to define the new value as a list with just one component (hence the [] around Birds[-1] + Birds[-1] * Birth_rate), and to use the \"+\" sign that, when applied on lists, concatenates them in Python. \n",
    "# Note: the notation Birds[-1] returns the last value of the \"Birds\" list"
   ]
  },
  {
   "cell_type": "code",
   "execution_count": 18,
   "metadata": {},
   "outputs": [
    {
     "data": {
      "image/png": "[encoded data removed]",
      "text/plain": [
       "<Figure size 432x288 with 1 Axes>"
      ]
     },
     "metadata": {
      "needs_background": "light"
     },
     "output_type": "display_data"
    }
   ],
   "source": [
    "# Now we are ready to plot the Birds vs Time: first, we need to import a plotting library and name it\n",
    "import matplotlib.pyplot as plt\n",
    "plt.plot(Time,Birds)\n",
    "plt.xlabel(\"Time (years)\")\n",
    "plt.ylabel(\"# of birds\")\n",
    "plt.title('Birds population growth')\n",
    "plt.show()"
   ]
  },
  {
   "cell_type": "code",
   "execution_count": null,
   "metadata": {},
   "outputs": [],
   "source": []
  }
 ],
 "metadata": {
  "kernelspec": {
   "display_name": "Python 3",
   "language": "python",
   "name": "python3"
  },
  "language_info": {
   "codemirror_mode": {
    "name": "ipython",
    "version": 3
   },
   "file_extension": ".py",
   "mimetype": "text/x-python",
   "name": "python",
   "nbconvert_exporter": "python",
   "pygments_lexer": "ipython3",
   "version": "3.8.3"
  }
 },
 "nbformat": 4,
 "nbformat_minor": 4
}
