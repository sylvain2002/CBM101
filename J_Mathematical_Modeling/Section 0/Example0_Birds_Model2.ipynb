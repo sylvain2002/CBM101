{
 "cells": [
  {
   "cell_type": "code",
   "execution_count": 1,
   "metadata": {},
   "outputs": [],
   "source": [
    "Birds_year0 = 100 \n",
    "# we set the initial number of birds to 100"
   ]
  },
  {
   "cell_type": "code",
   "execution_count": 2,
   "metadata": {},
   "outputs": [],
   "source": [
    "Birth_rate = 0.5; \n",
    "# we set the birth rate to 0.5, i.e. each couple of birds gives birth to one chick hence each bird to \"half a chick\""
   ]
  },
  {
   "cell_type": "code",
   "execution_count": 3,
   "metadata": {},
   "outputs": [],
   "source": [
    "Death_rate = 1/5; \n",
    "# we set the yearly (natural) death rate to 1/5, so that on average every bird lives 5 years"
   ]
  },
  {
   "cell_type": "code",
   "execution_count": 4,
   "metadata": {},
   "outputs": [
    {
     "name": "stdout",
     "output_type": "stream",
     "text": [
      "[100, 130.0, 169.0, 219.7, 285.60999999999996, 371.29299999999995, 482.68089999999995, 627.4851699999999, 815.7307209999999, 1060.4499372999999, 1378.5849184899998, 1792.1603940369998, 2329.8085122480998, 3028.7510659225295, 3937.376385699288, 5118.589301409074, 6654.166091831797, 8650.415919381336, 11245.540695195736, 14619.202903754456, 19004.963774880795, 24706.452907345032, 32118.388779548546, 41753.90541341311, 54280.07703743704, 70564.10014866816, 91733.33019326862, 119253.3292512492, 155029.32802662396, 201538.12643461116, 261999.5643649945, 340599.4336744928, 442779.26377684064, 575613.0429098929, 748296.9557828608, 972786.0425177191, 1264621.855273035, 1644008.4118549454, 2137210.935411429, 2778374.2160348576, 3611886.480845315, 4695452.425098909, 6104088.152628582, 7935314.598417156, 10315908.977942303, 13410681.671324994, 17433886.17272249, 22664052.024539236, 29463267.631901007, 38302247.921471305, 49792922.2979127]\n",
      "[0, 1, 2, 3, 4, 5, 6, 7, 8, 9, 10, 11, 12, 13, 14, 15, 16, 17, 18, 19, 20, 21, 22, 23, 24, 25, 26, 27, 28, 29, 30, 31, 32, 33, 34, 35, 36, 37, 38, 39, 40, 41, 42, 43, 44, 45, 46, 47, 48, 49, 50]\n"
     ]
    }
   ],
   "source": [
    "# We repeat the \"for\" loop with this additional source of bird population variation:\n",
    "# every year, the total population decreases by 1/5 (term - Birds[-1] * Death_rate)\n",
    "Time=[0]\n",
    "Birds=[100]\n",
    "for year in range (1,51) :\n",
    "    Birds = Birds + [Birds[-1] + Birds[-1] * Birth_rate - Birds[-1] * Death_rate]\n",
    "    Time = Time + [year]\n",
    "print(Birds)\n",
    "print(Time)\n",
    "# a bit of explanation: because we want to keep all time and # birds data, we are building lists over the years (\"Time\" and \"Birds\" respectively).\n",
    "# Each year, both lists need to incorporate a new value, while keeping the \"old\" ones unchanged: we need to add the new value at the end of the lists of values.\n",
    "# A convenient way to do this is to define the new value as a list with just one component (hence the [] around Birds[-1] + Birds[-1] * Birth_rate), and to use the \"+\" sign that, when applied on lists, concatenates them in Python. \n",
    "# Note: the notation Birds[-1] returns the last value of the \"Birds\" list"
   ]
  },
  {
   "cell_type": "code",
   "execution_count": 5,
   "metadata": {},
   "outputs": [
    {
     "data": {
      "image/png": "[encoded data removed]",
      "text/plain": [
       "<Figure size 432x288 with 1 Axes>"
      ]
     },
     "metadata": {
      "needs_background": "light"
     },
     "output_type": "display_data"
    }
   ],
   "source": [
    "# Now we are ready to plot the Birds vs Time: first, we need to import a plotting library and name it\n",
    "import matplotlib.pyplot as plt\n",
    "plt.plot(Time,Birds)\n",
    "plt.xlabel(\"Time (years)\")\n",
    "plt.ylabel(\"# of birds\")\n",
    "plt.title('Birds population growth')\n",
    "plt.show()"
   ]
  },
  {
   "cell_type": "code",
   "execution_count": 8,
   "metadata": {},
   "outputs": [
    {
     "data": {
      "text/plain": [
       "285.60999999999996"
      ]
     },
     "execution_count": 8,
     "metadata": {},
     "output_type": "execute_result"
    }
   ],
   "source": [
    "# number of birds after 5 years\n",
    "Birds[4]"
   ]
  },
  {
   "cell_type": "code",
   "execution_count": 9,
   "metadata": {},
   "outputs": [
    {
     "data": {
      "text/plain": [
       "1060.4499372999999"
      ]
     },
     "execution_count": 9,
     "metadata": {},
     "output_type": "execute_result"
    }
   ],
   "source": [
    "# number of birds after 10 years\n",
    "Birds[9]"
   ]
  },
  {
   "cell_type": "code",
   "execution_count": 10,
   "metadata": {},
   "outputs": [
    {
     "data": {
      "text/plain": [
       "38302247.921471305"
      ]
     },
     "execution_count": 10,
     "metadata": {},
     "output_type": "execute_result"
    }
   ],
   "source": [
    "# number of birds after 50 years\n",
    "Birds[49]"
   ]
  },
  {
   "cell_type": "code",
   "execution_count": null,
   "metadata": {},
   "outputs": [],
   "source": []
  }
 ],
 "metadata": {
  "kernelspec": {
   "display_name": "Python 3",
   "language": "python",
   "name": "python3"
  },
  "language_info": {
   "codemirror_mode": {
    "name": "ipython",
    "version": 3
   },
   "file_extension": ".py",
   "mimetype": "text/x-python",
   "name": "python",
   "nbconvert_exporter": "python",
   "pygments_lexer": "ipython3",
   "version": "3.8.3"
  }
 },
 "nbformat": 4,
 "nbformat_minor": 4
}
