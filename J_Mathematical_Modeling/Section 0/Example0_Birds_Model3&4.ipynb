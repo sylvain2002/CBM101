{
 "cells": [
  {
   "cell_type": "code",
   "execution_count": 1,
   "metadata": {},
   "outputs": [
    {
     "name": "stdout",
     "output_type": "stream",
     "text": [
      "140.0\n",
      "190.4\n",
      "249.34784000000002\n",
      "311.84741468733444\n",
      "370.5223119838273\n",
      "418.4966842979003\n",
      "452.6055516785141\n",
      "474.05654210755904\n",
      "486.3552080463627\n",
      "492.99142367572324\n",
      "496.44659169576846\n",
      "498.2106691373077\n",
      "499.10213286371766\n",
      "499.5502602664644\n",
      "499.77492786740424\n",
      "499.88741327623734\n",
      "499.9436939623483\n",
      "499.9718438108042\n",
      "499.98592111263105\n",
      "499.9929603581004\n",
      "499.99648012949365\n",
      "499.99824005235735\n",
      "499.99912002308133\n",
      "499.99956001076634\n",
      "499.99978000518956\n",
      "499.9998900025463\n",
      "499.9999450012611\n",
      "499.99997250062756\n",
      "499.99998625031304\n",
      "499.9999931251564\n",
      "499.99999656257813\n",
      "499.999998281289\n",
      "499.9999991406445\n",
      "499.9999995703223\n",
      "499.9999997851611\n",
      "499.9999998925806\n",
      "499.99999994629036\n",
      "499.99999997314524\n",
      "499.99999998657256\n",
      "499.9999999932862\n",
      "499.99999999664317\n",
      "499.99999999832164\n",
      "499.9999999991609\n",
      "499.9999999995804\n",
      "499.99999999979025\n",
      "499.99999999989507\n",
      "499.9999999999476\n",
      "499.99999999997374\n",
      "499.9999999999869\n",
      "499.9999999999935\n"
     ]
    },
    {
     "data": {
      "image/png": "[encoded data removed]",
      "text/plain": [
       "<Figure size 432x288 with 1 Axes>"
      ]
     },
     "metadata": {
      "needs_background": "light"
     },
     "output_type": "display_data"
    }
   ],
   "source": [
    "Birds_year0 = 100 \n",
    "Birth_rate = 0.5\n",
    "Death_rate = 0.001\n",
    "# we import a maths function library that might be useful, see below\n",
    "import math\n",
    "# We repeat the \"for\" loop with an additional population decay term (- sign) which we modify as we want\n",
    "Time=[0]\n",
    "Birds=[100]\n",
    "for year in range (1,51) :\n",
    "    # first, choose how the decay term depends on the size of the population at each year (Birds[-1]):\n",
    "    # choosing Effective_Death_rate = Death_rate is equivalent to models 1 and 2\n",
    "    # choosing Effective_Death_rate = Death_rate * Birds[-1], or Death_rate * Birds[-1] * Birds[-1] ... is equivalent to say that the each single bird is more likely to die when the population grows\n",
    "    # choosing Effective_Decay_rate = Death_rate/Birds[-1] is equivalent to say that each single bird is less likely to die when the population grows\n",
    "    # ... many other possible choices (math.log(Birds[-1]), math.exp(Birds[-1]) ... )!!\n",
    "    Effective_Death_rate = Death_rate * Birds[-1]\n",
    "    Birds = Birds + [Birds[-1] + Birds[-1] * Birth_rate - Birds[-1] * Effective_Death_rate ]\n",
    "    Time = Time + [year]\n",
    "    print(Birds[-1])\n",
    "    \n",
    "import matplotlib.pyplot as plt\n",
    "plt.plot(Time,Birds)\n",
    "plt.xlabel(\"Time (years)\")\n",
    "plt.ylabel(\"# of birds\")\n",
    "plt.title('Birds population growth')\n",
    "plt.show()\n",
    "\n"
   ]
  },
  {
   "cell_type": "code",
   "execution_count": 2,
   "metadata": {},
   "outputs": [
    {
     "name": "stdout",
     "output_type": "stream",
     "text": [
      "145.0\n",
      "206.9875\n",
      "289.059337421875\n",
      "391.8113558574258\n",
      "510.9589644967215\n",
      "635.8989150453012\n",
      "751.6646574900562\n",
      "844.9971075752626\n",
      "910.4856054576139\n",
      "951.236389313662\n",
      "974.4292497932466\n",
      "986.8876932635552\n",
      "993.3578803378023\n",
      "996.6568812920976\n",
      "998.3228524247013\n",
      "999.1600198003559\n",
      "999.57965711681\n",
      "999.7897402143353\n",
      "999.8948480025789\n",
      "999.9474184728182\n",
      "999.9737078540006\n",
      "999.9868535813619\n",
      "999.9934267042668\n",
      "999.9967133305292\n",
      "999.9983566598636\n",
      "999.9991783285815\n",
      "999.9995891639531\n",
      "999.9997945818922\n",
      "999.999897290925\n",
      "999.9999486454573\n",
      "999.9999743227273\n",
      "999.9999871613633\n",
      "999.9999935806816\n",
      "999.9999967903408\n",
      "999.9999983951703\n",
      "999.9999991975852\n",
      "999.9999995987927\n",
      "999.9999997993963\n",
      "999.9999998996982\n",
      "999.9999999498491\n",
      "999.9999999749245\n",
      "999.9999999874623\n",
      "999.9999999937312\n",
      "999.9999999968655\n",
      "999.9999999984328\n",
      "999.9999999992165\n",
      "999.9999999996082\n",
      "999.9999999998041\n",
      "999.999999999902\n",
      "999.999999999951\n"
     ]
    },
    {
     "data": {
      "image/png": "[encoded data removed]",
      "text/plain": [
       "<Figure size 432x288 with 1 Axes>"
      ]
     },
     "metadata": {
      "needs_background": "light"
     },
     "output_type": "display_data"
    }
   ],
   "source": [
    "Birds_year0 = 100 \n",
    "Birth_rate = 0.5\n",
    "maxbirds = 1000\n",
    "# We repeat the \"for\" loop with a modified birth rate that accounts for limited resources\n",
    "Time=[0]\n",
    "Birds=[100]\n",
    "for year in range (1,51) :\n",
    "    # We assume that the forest can feed 1000 birds (parameter maxbirds), and the less food there is, the less birds generate chicks\n",
    "    # the amount of available food is proportional to 1 - Birds[-1]/maxbirds, so that food is completely depleted when the total number of birds, Birds[-1], equals maxbirds\n",
    "    Effective_birth_rate = Birth_rate * (1 - Birds[-1]/maxbirds)\n",
    "    Birds = Birds + [Birds[-1] + Birds[-1] * Effective_birth_rate ]\n",
    "    Time = Time + [year]\n",
    "    print(Birds[-1])\n",
    "import matplotlib.pyplot as plt\n",
    "plt.plot(Time,Birds)\n",
    "plt.xlabel(\"Time (years)\")\n",
    "plt.ylabel(\"# of birds\")\n",
    "plt.title('Birds population growth')\n",
    "plt.show()\n",
    "\n"
   ]
  },
  {
   "cell_type": "code",
   "execution_count": null,
   "metadata": {},
   "outputs": [],
   "source": []
  }
 ],
 "metadata": {
  "kernelspec": {
   "display_name": "Python 3",
   "language": "python",
   "name": "python3"
  },
  "language_info": {
   "codemirror_mode": {
    "name": "ipython",
    "version": 3
   },
   "file_extension": ".py",
   "mimetype": "text/x-python",
   "name": "python",
   "nbconvert_exporter": "python",
   "pygments_lexer": "ipython3",
   "version": "3.8.3"
  }
 },
 "nbformat": 4,
 "nbformat_minor": 4
}
